{
 "cells": [
  {
   "cell_type": "markdown",
   "metadata": {},
   "source": [
    "# Midterm - Spring 2023\n",
    "\n",
    "## Problem 1: Take-at-home  (45 points total)\n",
    "\n",
    "You are applying for a position at the data science team of USDA and you are given data associated with determining appropriate parasite treatment of canines. The suggested treatment options are determined based on a **logistic regression** model that predicts if the canine is infected with a parasite. \n",
    "\n",
    "The data is given in the site: https://data.world/ehales/grls-parasite-study/workspace/file?filename=CBC_data.csv  and more specifically in the CBC_data.csv file. Login using you University Google account to access the data and the description that includes a paper on the study (**you dont need to read the paper to solve this problem**). Your target variable $y$ column is titled `parasite_status`. \n",
    "\n",
    "\n"
   ]
  },
  {
   "cell_type": "markdown",
   "metadata": {},
   "source": [
    "### Question 1 - Feature Engineering (5 points)\n",
    "\n",
    "Write the posterior probability expressions for logistic regression for the problem you are given to solve."
   ]
  },
  {
   "cell_type": "markdown",
   "metadata": {},
   "source": [
    "$$p(y=1| \\mathbf{x}, \\mathbf w)=\\sigma(\\mathbf w^T \\mathbf x)=\\frac{1}{1+e^{-\\mathbf w^T \\mathbf x}}$$ \n",
    "\n",
    "$$p(y=0| \\mathbf{x}, \\mathbf w)=1-\\sigma(\\mathbf w^T \\mathbf x)=1-\\frac{1}{1+e^{-\\mathbf w^T \\mathbf x}}$$ "
   ]
  },
  {
   "cell_type": "markdown",
   "metadata": {},
   "source": [
    "\n",
    "\n",
    "### Question 2 - Decision Boundary (5 points)\n",
    "\n",
    "Write the expression for the decision boundary assuming that $p(y=1)=p(y=0)$. The decision boundary is the line that separates the two classes.\n",
    "\n",
    "\n",
    "\n"
   ]
  },
  {
   "cell_type": "markdown",
   "metadata": {},
   "source": [
    " $$p(y=1)=p(y=0)\\\\\\frac{1}{1+e^{-\\mathbf w^T \\mathbf x}}=1-\\frac{1}{1+e^{-\\mathbf w^T \\mathbf x}}\\\\\\frac{2}{1+e^{-\\mathbf w^T \\mathbf x}}=1\\\\e^{-\\mathbf w^T \\mathbf x}=1\\\\decision\\ boundary:\\mathbf w^T \\mathbf x=0$$"
   ]
  },
  {
   "cell_type": "markdown",
   "metadata": {},
   "source": [
    "\n",
    "\n",
    "### Question 3 - Loss function (5 points)\n",
    "\n",
    "Write the expression of the loss as a function of $\\mathbf w$ that makes sense for you to use in this problem. \n",
    "\n",
    "NOTE: The loss will be a function that will include this function: \n",
    "\n",
    "$$\\sigma(a) = \\frac{1}{1+e^{-a}}$$\n",
    "\n"
   ]
  },
  {
   "cell_type": "markdown",
   "metadata": {},
   "source": [
    "$$P(y^i=1)=\\sigma(\\mathbf w^T \\mathbf x^i)^{y^i}(1-\\sigma(\\mathbf w^T \\mathbf x^i))^{1-y^i}\\\\L_{CE}=log( \\prod_{i=1}^N \\sigma(\\mathbf w^T \\mathbf x^i)^{y^i}(1-\\sigma(\\mathbf w^T \\mathbf x^i))^{1-y^i})\\\\=\\sum_{i=1}^{N}log(\\sigma(\\mathbf w^T \\mathbf x^i)^{y^i}(1-\\sigma(\\mathbf w^T \\mathbf x^i))^{1-y^i})\\\\=\\sum_{i=1}^{N} y^i log\\sigma(\\mathbf w^T \\mathbf x^i)+(1-y^i)log(1-\\sigma(\\mathbf w^T \\mathbf x^i))$$"
   ]
  },
  {
   "cell_type": "markdown",
   "metadata": {},
   "source": [
    "\n",
    "### Question 4 - Gradient (5 points)\n",
    "\n",
    "Write the expression of the gradient of the loss with respect to the parameters - show all your work.\n",
    "\n"
   ]
  },
  {
   "cell_type": "markdown",
   "metadata": {},
   "source": [
    "$$ \\nabla_{\\mathbf w_j} L_{CE} = \\frac{\\partial L_{CE}}{\\partial w_j}=\\frac{\\partial{\\sum_{i=1}^{N} y^i log\\sigma(\\mathbf w^T \\mathbf x^i)+(1-y^i)log(1-\\sigma(\\mathbf w^T \\mathbf x^i))} }{\\partial w_j}\\\\=\\sum_{i=1}^{N} (y^i\\frac{1}{\\sigma(\\mathbf w^T \\mathbf x^i)}-(1-y^i)\\frac{1}{1-\\sigma(\\mathbf w^T \\mathbf x^i)})\\frac{\\partial \\sigma(\\mathbf w^T \\mathbf x^i)}{w_j}\\\\=\\sum_{i=1}^{N} (y^i\\frac{1}{\\sigma(\\mathbf w^T \\mathbf x^i)}-(1-y^i)\\frac{1}{1-\\sigma(\\mathbf w^T \\mathbf x^i)})\\sigma(\\mathbf w^T \\mathbf x^i)(1-\\sigma(\\mathbf w^T \\mathbf x^i))\\frac{\\partial \\mathbf w^T \\mathbf x^i}{w_j}\\\\=\\sum_{i=1}^{N}(y^i(1-\\sigma(\\mathbf w^T \\mathbf x^i))-(1-y^i)\\sigma(\\mathbf w^T \\mathbf x^i))x_j^i\\\\=\\sum_{i=1}^{N}(y^i-\\sigma(\\mathbf w^T \\mathbf x^i))x_j^i\\\\\\therefore\\nabla_\\mathbf w L_{CE}=\\sum_{i=1}^{N}(y^i-\\sigma(\\mathbf w^T \\mathbf x^i))x^i=X^T(\\mathbf y-\\sigma(X\\mathbf w))$$"
   ]
  },
  {
   "cell_type": "markdown",
   "metadata": {},
   "source": [
    "### Question 5 - Imbalanced dataset (10 points)\n",
    "\n",
    "You are now told that in the dataset  \n",
    "\n",
    "$$p(y=0) >> p(y=1)$$\n",
    "\n",
    "Can you comment if the accuracy of Logistic Regression will be affected by such imbalance?\n",
    "\n"
   ]
  },
  {
   "cell_type": "markdown",
   "metadata": {},
   "source": [
    "The accuracy of Logistic Regression will approach 1. The model will have low sensitivvity and high specificity. However, in practice, this model is not useful, it cannot predict the minority class."
   ]
  },
  {
   "cell_type": "markdown",
   "metadata": {},
   "source": [
    "\n",
    "### Question 6 - SGD (15 points)\n",
    "\n",
    "The interviewer was impressed with your answers and wants to test your programming skills. \n",
    "\n",
    "1. Use the dataset to train a logistic regressor that will predict the target variable $y$. \n",
    "\n",
    " 2. Report the harmonic mean of precision (p) and recall (r) i.e the  [metric called $F_1$ score](https://en.wikipedia.org/wiki/F-score) that is calculated as shown below using a test dataset that is 20% of each group. Plot the $F_1$ score vs the iteration number  $t$. \n",
    "\n",
    "$$F_1 = \\frac{2}{r^{-1} + p^{-1}}$$\n",
    "\n",
    "Your code includes hyperparameter optimization of the learning rate and mini batch size. Please learn about cross validation which is a splitting strategy for tuning models [here](https://scikit-learn.org/stable/modules/cross_validation.html).\n",
    "\n",
    "You are allowed to use any library you want to code this problem.\n",
    "\n"
   ]
  },
  {
   "cell_type": "code",
   "execution_count": 67,
   "metadata": {},
   "outputs": [
    {
     "name": "stdout",
     "output_type": "stream",
     "text": [
      "[[ 1.          0.27179894  1.42604102  1.3713685  -0.55967407]\n",
      " [ 1.          1.34789048  0.79430977  1.05893991 -1.29894515]\n",
      " [ 1.         -1.11174732 -1.55888915 -1.94037449 -0.63749208]\n",
      " ...\n",
      " [ 1.          0.27179894 -0.31121992 -0.37823157  0.80214106]\n",
      " [ 1.         -0.49683787 -0.72184524 -0.56568872  2.24177421]\n",
      " [ 1.         -0.34311051  0.0046457   0.43408275 -0.59858308]]\n"
     ]
    },
    {
     "ename": "TypeError",
     "evalue": "loop of ufunc does not support argument 0 of type float which has no callable exp method",
     "output_type": "error",
     "traceback": [
      "\u001b[1;31m---------------------------------------------------------------------------\u001b[0m",
      "\u001b[1;31mAttributeError\u001b[0m                            Traceback (most recent call last)",
      "\u001b[1;31mAttributeError\u001b[0m: 'float' object has no attribute 'exp'",
      "\nThe above exception was the direct cause of the following exception:\n",
      "\u001b[1;31mTypeError\u001b[0m                                 Traceback (most recent call last)",
      "Input \u001b[1;32mIn [67]\u001b[0m, in \u001b[0;36m<cell line: 45>\u001b[1;34m()\u001b[0m\n\u001b[0;32m     44\u001b[0m num_iters\u001b[38;5;241m=\u001b[39m\u001b[38;5;241m1000\u001b[39m\n\u001b[0;32m     45\u001b[0m \u001b[38;5;28;01mfor\u001b[39;00m i \u001b[38;5;129;01min\u001b[39;00m \u001b[38;5;28mrange\u001b[39m(num_iters):\n\u001b[0;32m     46\u001b[0m \u001b[38;5;66;03m#     z=-X_train.dot(w)\u001b[39;00m\n\u001b[0;32m     47\u001b[0m \u001b[38;5;66;03m#     print(z)\u001b[39;00m\n\u001b[0;32m     48\u001b[0m \u001b[38;5;66;03m#     f=np.exp(z)\u001b[39;00m\n\u001b[0;32m     49\u001b[0m \u001b[38;5;66;03m#     sig=1/(1+f)\u001b[39;00m\n\u001b[1;32m---> 50\u001b[0m     sig\u001b[38;5;241m=\u001b[39m\u001b[38;5;241m1\u001b[39m\u001b[38;5;241m/\u001b[39m(\u001b[38;5;241m1\u001b[39m\u001b[38;5;241m+\u001b[39m\u001b[43mnp\u001b[49m\u001b[38;5;241;43m.\u001b[39;49m\u001b[43mexp\u001b[49m\u001b[43m(\u001b[49m\u001b[38;5;241;43m-\u001b[39;49m\u001b[43mX_train\u001b[49m\u001b[38;5;241;43m.\u001b[39;49m\u001b[43mdot\u001b[49m\u001b[43m(\u001b[49m\u001b[43mw\u001b[49m\u001b[43m)\u001b[49m\u001b[43m)\u001b[49m)\n\u001b[0;32m     51\u001b[0m \u001b[38;5;66;03m#     print(sig)\u001b[39;00m\n\u001b[0;32m     52\u001b[0m     dw\u001b[38;5;241m=\u001b[39m(X_train\u001b[38;5;241m.\u001b[39mT)\u001b[38;5;241m.\u001b[39mdot(y_train\u001b[38;5;241m-\u001b[39msig)\n",
      "\u001b[1;31mTypeError\u001b[0m: loop of ufunc does not support argument 0 of type float which has no callable exp method"
     ]
    }
   ],
   "source": [
    "# write your code here\n",
    "import numpy as np\n",
    "import pandas as pd\n",
    "import matplotlib.pyplot as plt\n",
    "from sklearn.model_selection import train_test_split\n",
    "from sklearn import datasets\n",
    "from sklearn import svm\n",
    "from sklearn.preprocessing import StandardScaler\n",
    "\n",
    "data=pd.read_csv(\"CBC_data.csv\")\n",
    "n=data.shape[0]\n",
    "\n",
    "# clean y\n",
    "y=np.array(data['PARASITE_STATUS']).reshape((n,1))\n",
    "y[y=='Negative']=0\n",
    "y[y=='Positive']=1\n",
    "\n",
    "# pick features for x\n",
    "age=np.array(data['AGE']).reshape((n,1))\n",
    "RBC=np.array(data['RBC']).reshape((n,1))\n",
    "HGB=np.array(data['HGB']).reshape((n,1))\n",
    "WBC=np.array(data['WBC']).reshape((n,1))\n",
    "X=np.hstack((age,RBC,HGB,WBC))\n",
    "scale=StandardScaler() \n",
    "X_scaled = scale.fit_transform(X)\n",
    "X=np.hstack((np.ones((n,1)),X_scaled))\n",
    "# print(X)\n",
    "\n",
    "# split train test\n",
    "X_train, X_test, y_train, y_test = train_test_split(\n",
    "    X, y, test_size=0.2, random_state=0)\n",
    "# print(X_train.shape,X_test.shape,y_train.shape,y_test.shape)\n",
    "train_n=X_train.shape[0]\n",
    "test_n=X_test.shape[0]\n",
    "\n",
    "\n",
    "# SGD\n",
    "w=np.array([1.,1.,1.,1.,1.]).reshape((5,1))\n",
    "# test=1/w\n",
    "# print(test)\n",
    "learning_rate=0.01\n",
    "num_iters=1000\n",
    "for i in range(num_iters):\n",
    "#     z=-X_train.dot(w)\n",
    "#     print(z)\n",
    "#     f=np.exp(z)\n",
    "#     sig=1/(1+f)\n",
    "    sig=1/(1+np.exp(-X_train.dot(w)))\n",
    "#     print(sig)\n",
    "    dw=(X_train.T).dot(y_train-sig)\n",
    "#     print((y_train-sig).shape)\n",
    "#     print((X_train.T).shape)\n",
    "#     print(dw)\n",
    "    w=w+(learning_rate/train_n)*dw"
   ]
  },
  {
   "cell_type": "code",
   "execution_count": null,
   "metadata": {},
   "outputs": [],
   "source": []
  },
  {
   "cell_type": "code",
   "execution_count": null,
   "metadata": {},
   "outputs": [],
   "source": []
  }
 ],
 "metadata": {
  "kernelspec": {
   "display_name": "Python 3 (ipykernel)",
   "language": "python",
   "name": "python3"
  },
  "language_info": {
   "codemirror_mode": {
    "name": "ipython",
    "version": 3
   },
   "file_extension": ".py",
   "mimetype": "text/x-python",
   "name": "python",
   "nbconvert_exporter": "python",
   "pygments_lexer": "ipython3",
   "version": "3.9.12"
  },
  "vscode": {
   "interpreter": {
    "hash": "62556f7a043365a66e0918c892755cfafede529a87e97207556f006a109bade4"
   }
  }
 },
 "nbformat": 4,
 "nbformat_minor": 2
}
