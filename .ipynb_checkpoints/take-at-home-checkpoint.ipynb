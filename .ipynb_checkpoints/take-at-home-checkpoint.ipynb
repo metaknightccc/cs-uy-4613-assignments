{
 "cells": [
  {
   "cell_type": "markdown",
   "metadata": {},
   "source": [
    "# Midterm - Spring 2023\n",
    "\n",
    "## Problem 1: Take-at-home  (45 points total)\n",
    "\n",
    "You are applying for a position at the data science team of USDA and you are given data associated with determining appropriate parasite treatment of canines. The suggested treatment options are determined based on a **logistic regression** model that predicts if the canine is infected with a parasite. \n",
    "\n",
    "The data is given in the site: https://data.world/ehales/grls-parasite-study/workspace/file?filename=CBC_data.csv  and more specifically in the CBC_data.csv file. Login using you University Google account to access the data and the description that includes a paper on the study (**you dont need to read the paper to solve this problem**). Your target variable $y$ column is titled `parasite_status`. \n",
    "\n",
    "\n"
   ]
  },
  {
   "cell_type": "markdown",
   "metadata": {},
   "source": [
    "### Question 1 - Feature Engineering (5 points)\n",
    "\n",
    "Write the posterior probability expressions for logistic regression for the problem you are given to solve."
   ]
  },
  {
   "cell_type": "markdown",
   "metadata": {},
   "source": [
    "$$p(y=1| \\mathbf{x}, \\mathbf w)=\\sigma(\\mathbf w^T \\mathbf x)=\\frac{1}{1+e^{-\\mathbf w^T \\mathbf x}}$$ \n",
    "\n",
    "$$p(y=0| \\mathbf{x}, \\mathbf w)=1-\\sigma(\\mathbf w^T \\mathbf x)=1-\\frac{1}{1+e^{-\\mathbf w^T \\mathbf x}}$$ "
   ]
  },
  {
   "cell_type": "markdown",
   "metadata": {},
   "source": [
    "\n",
    "\n",
    "### Question 2 - Decision Boundary (5 points)\n",
    "\n",
    "Write the expression for the decision boundary assuming that $p(y=1)=p(y=0)$. The decision boundary is the line that separates the two classes.\n",
    "\n",
    "\n",
    "\n"
   ]
  },
  {
   "cell_type": "markdown",
   "metadata": {},
   "source": [
    " $$p(y=1)=p(y=0)\\\\\\frac{1}{1+e^{-\\mathbf w^T \\mathbf x}}=1-\\frac{1}{1+e^{-\\mathbf w^T \\mathbf x}}\\\\\\frac{2}{1+e^{-\\mathbf w^T \\mathbf x}}=1\\\\e^{-\\mathbf w^T \\mathbf x}=1\\\\decision\\ boundary:\\mathbf w^T \\mathbf x=0$$"
   ]
  },
  {
   "cell_type": "markdown",
   "metadata": {},
   "source": [
    "\n",
    "\n",
    "### Question 3 - Loss function (5 points)\n",
    "\n",
    "Write the expression of the loss as a function of $\\mathbf w$ that makes sense for you to use in this problem. \n",
    "\n",
    "NOTE: The loss will be a function that will include this function: \n",
    "\n",
    "$$\\sigma(a) = \\frac{1}{1+e^{-a}}$$\n",
    "\n"
   ]
  },
  {
   "cell_type": "markdown",
   "metadata": {},
   "source": [
    "$$P(y^i=1)=\\sigma(\\mathbf w^T \\mathbf x^i)^{y^i}(1-\\sigma(\\mathbf w^T \\mathbf x^i))^{1-y^i}\\\\L_{CE}=log( \\prod_{i=1}^N \\sigma(\\mathbf w^T \\mathbf x^i)^{y^i}(1-\\sigma(\\mathbf w^T \\mathbf x^i))^{1-y^i})\\\\=\\sum_{i=1}^{N}log(\\sigma(\\mathbf w^T \\mathbf x^i)^{y^i}(1-\\sigma(\\mathbf w^T \\mathbf x^i))^{1-y^i})\\\\=\\sum_{i=1}^{N} y^i log\\sigma(\\mathbf w^T \\mathbf x^i)+(1-y^i)log(1-\\sigma(\\mathbf w^T \\mathbf x^i))$$"
   ]
  },
  {
   "cell_type": "markdown",
   "metadata": {},
   "source": [
    "\n",
    "### Question 4 - Gradient (5 points)\n",
    "\n",
    "Write the expression of the gradient of the loss with respect to the parameters - show all your work.\n",
    "\n"
   ]
  },
  {
   "cell_type": "markdown",
   "metadata": {},
   "source": [
    "$$ \\nabla_{\\mathbf w_j} L_{CE} = \\frac{\\partial L_{CE}}{\\partial w_j}=\\frac{\\partial{\\sum_{i=1}^{N} y^i log\\sigma(\\mathbf w^T \\mathbf x^i)+(1-y^i)log(1-\\sigma(\\mathbf w^T \\mathbf x^i))} }{\\partial w_j}\\\\=\\sum_{i=1}^{N} (y^i\\frac{1}{\\sigma(\\mathbf w^T \\mathbf x^i)}-(1-y^i)\\frac{1}{1-\\sigma(\\mathbf w^T \\mathbf x^i)})\\frac{\\partial \\sigma(\\mathbf w^T \\mathbf x^i)}{w_j}\\\\=\\sum_{i=1}^{N} (y^i\\frac{1}{\\sigma(\\mathbf w^T \\mathbf x^i)}-(1-y^i)\\frac{1}{1-\\sigma(\\mathbf w^T \\mathbf x^i)})\\sigma(\\mathbf w^T \\mathbf x^i)(1-\\sigma(\\mathbf w^T \\mathbf x^i))\\frac{\\partial \\mathbf w^T \\mathbf x^i}{w_j}\\\\=\\sum_{i=1}^{N}(y^i(1-\\sigma(\\mathbf w^T \\mathbf x^i))-(1-y^i)\\sigma(\\mathbf w^T \\mathbf x^i))x_j^i\\\\=\\sum_{i=1}^{N}(y^i-\\sigma(\\mathbf w^T \\mathbf x^i))x_j^i\\\\\\therefore\\nabla_\\mathbf w L_{CE}=\\sum_{i=1}^{N}(y^i-\\sigma(\\mathbf w^T \\mathbf x^i))x^i=X^T(\\mathbf y-\\sigma(X\\mathbf w))$$"
   ]
  },
  {
   "cell_type": "markdown",
   "metadata": {},
   "source": [
    "### Question 5 - Imbalanced dataset (10 points)\n",
    "\n",
    "You are now told that in the dataset  \n",
    "\n",
    "$$p(y=0) >> p(y=1)$$\n",
    "\n",
    "Can you comment if the accuracy of Logistic Regression will be affected by such imbalance?\n",
    "\n"
   ]
  },
  {
   "cell_type": "markdown",
   "metadata": {},
   "source": [
    "The accuracy of Logistic Regression will approach 1. The model will have low sensitivvity and high specificity. However, in practice, this model is not useful, it cannot predict the minority class."
   ]
  },
  {
   "cell_type": "markdown",
   "metadata": {},
   "source": [
    "\n",
    "### Question 6 - SGD (15 points)\n",
    "\n",
    "The interviewer was impressed with your answers and wants to test your programming skills. \n",
    "\n",
    "1. Use the dataset to train a logistic regressor that will predict the target variable $y$. \n",
    "\n",
    " 2. Report the harmonic mean of precision (p) and recall (r) i.e the  [metric called $F_1$ score](https://en.wikipedia.org/wiki/F-score) that is calculated as shown below using a test dataset that is 20% of each group. Plot the $F_1$ score vs the iteration number  $t$. \n",
    "\n",
    "$$F_1 = \\frac{2}{r^{-1} + p^{-1}}$$\n",
    "\n",
    "Your code includes hyperparameter optimization of the learning rate and mini batch size. Please learn about cross validation which is a splitting strategy for tuning models [here](https://scikit-learn.org/stable/modules/cross_validation.html).\n",
    "\n",
    "You are allowed to use any library you want to code this problem.\n",
    "\n"
   ]
  },
  {
   "cell_type": "code",
   "execution_count": 14,
   "metadata": {},
   "outputs": [
    {
     "name": "stdout",
     "output_type": "stream",
     "text": [
      "[[-2.726749544046458]\n",
      " [0.045272140984152456]\n",
      " [-0.2307626701780124]\n",
      " [-0.025925464961391417]\n",
      " [0.301749243619889]]\n"
     ]
    },
    {
     "data": {
      "image/png": "[encoded data removed]",
      "text/plain": [
       "<Figure size 432x288 with 1 Axes>"
      ]
     },
     "metadata": {
      "needs_background": "light"
     },
     "output_type": "display_data"
    }
   ],
   "source": [
    "# write your code here\n",
    "import numpy as np\n",
    "import pandas as pd\n",
    "import matplotlib.pyplot as plt\n",
    "from sklearn.model_selection import train_test_split\n",
    "from sklearn import datasets\n",
    "from sklearn import svm\n",
    "from sklearn.preprocessing import StandardScaler\n",
    "import math\n",
    "\n",
    "data=pd.read_csv(\"CBC_data.csv\").dropna()\n",
    "n=data.shape[0]\n",
    "\n",
    "# clean y\n",
    "y=np.array(data['PARASITE_STATUS']).reshape((n,1))\n",
    "y[y=='Negative']=0\n",
    "y[y=='Positive']=1\n",
    "\n",
    "# pick features for x\n",
    "age=np.array(data['AGE']).reshape((n,1))\n",
    "RBC=np.array(data['RBC']).reshape((n,1))\n",
    "HGB=np.array(data['HGB']).reshape((n,1))\n",
    "WBC=np.array(data['WBC']).reshape((n,1))\n",
    "X=np.hstack((age,RBC,HGB,WBC))\n",
    "scale=StandardScaler() \n",
    "X_scaled = scale.fit_transform(X)\n",
    "X=np.hstack((np.ones((n,1)),X_scaled))\n",
    "# print(X)\n",
    "\n",
    "# split train test\n",
    "X_train, X_test, y_train, y_test = train_test_split(\n",
    "    X, y, test_size=0.2, random_state=0)\n",
    "# print(X_train.shape,X_test.shape,y_train.shape,y_test.shape)\n",
    "train_n=X_train.shape[0]\n",
    "test_n=X_test.shape[0]\n",
    "\n",
    "\n",
    "# SGD\n",
    "w=np.array([1.,.0,.0,.0,.1]).reshape((5,1))\n",
    "# test=1/w\n",
    "# print(test)\n",
    "learning_rate=0.2\n",
    "num_iters=5000\n",
    "result=[]\n",
    "h=0.5\n",
    "\n",
    "for i in range(num_iters):\n",
    "#     print(i)\n",
    "    z=-X_train.dot(w)\n",
    "    for j in range(z.shape[0]):\n",
    "        z[j,0]=math.exp(z[j,0])\n",
    "    sig=1/(1+z)\n",
    "    dw=(X_train.T).dot(y_train-sig)\n",
    "    w=w+(learning_rate/train_n)*dw\n",
    "    \n",
    "#     calculate f1 score\n",
    "    \n",
    "    tp,fp,fn,tn=0,0,0,0\n",
    "    predict=X_test.dot(w)\n",
    "    for j in range(predict.shape[0]):\n",
    "        predict[j,0]=math.exp(-z[j,0])\n",
    "        predict[j,0]=1/(1+predict[j,0])\n",
    "#         print(X_test[j,0])\n",
    "        if predict[j,0]>=h and y_test[j,0]==1:\n",
    "            tp+=1\n",
    "        if predict[j,0]>=h and y_test[j,0]==0:\n",
    "            fp+=1\n",
    "        if predict[j,0]<h and y_test[j,0]==1:\n",
    "            fn+=1\n",
    "        if predict[j,0]<h and y_test[j,0]==0:\n",
    "            tn+=1\n",
    "    r=tp/(tp+fn)\n",
    "    p=tp/(tp+fp)\n",
    "    f1=2*(r*p)/(r+p)\n",
    "    result.append(f1)\n",
    "#     print(predict)\n",
    "#     print(tp,fn,fp)\n",
    "#     print(predict.shape)\n",
    "print(w)\n",
    "# print(result)\n",
    "plt.plot(result)\n",
    "plt.show()"
   ]
  },
  {
   "cell_type": "code",
   "execution_count": null,
   "metadata": {},
   "outputs": [],
   "source": []
  },
  {
   "cell_type": "code",
   "execution_count": null,
   "metadata": {},
   "outputs": [],
   "source": []
  }
 ],
 "metadata": {
  "kernelspec": {
   "display_name": "Python 3 (ipykernel)",
   "language": "python",
   "name": "python3"
  },
  "language_info": {
   "codemirror_mode": {
    "name": "ipython",
    "version": 3
   },
   "file_extension": ".py",
   "mimetype": "text/x-python",
   "name": "python",
   "nbconvert_exporter": "python",
   "pygments_lexer": "ipython3",
   "version": "3.9.12"
  },
  "vscode": {
   "interpreter": {
    "hash": "62556f7a043365a66e0918c892755cfafede529a87e97207556f006a109bade4"
   }
  }
 },
 "nbformat": 4,
 "nbformat_minor": 2
}
