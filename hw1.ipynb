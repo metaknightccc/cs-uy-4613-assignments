{
 "cells": [
  {
   "cell_type": "markdown",
   "metadata": {},
   "source": [
    "# Probability Assignment"
   ]
  },
  {
   "cell_type": "markdown",
   "metadata": {},
   "source": [
    "To get full credit in this assignment you need to use only `numpy` or `jax` libraries  and include adequate explanation of the code in either markdown cells or code comments. Sometimes you need to type equations - type equations in latex math notation. \n",
    "\n",
    "PS: Please note that we run through chatGPT the questions and you will be referred to the Dean if we find that a robot answered your questions. ."
   ]
  },
  {
   "cell_type": "markdown",
   "metadata": {},
   "source": [
    "## Question 1a (10 points)\n",
    "\n",
    "In a private subreddit people are posting their opinions on the CEO of the company you work for. Lets assume that the employees that are posting are random logging in to that subreddit and that each post indicates whether the employee approves or not the job that the CEO is doing. Let $x_i$ be the binary random variable where $x_i=1$ indicates approval. You can assume that $x$ is distributed according to a Bernoulli distribution with parameter $p=1/2$.\n",
    "\n",
    "Your job is to sample $n=50$ posts and estimate the approval rate of the CEO by considering the statistics of $y=x_1+x_2+ \\dots + x_n$. What is the probability that 25 employees approve the CEO?\n",
    "\n",
    "## Question 1b (10 points)\n",
    "\n",
    "Following your findings in Q1a, read about the [Cenral Limit Theorem](https://en.wikipedia.org/wiki/Central_limit_theorem) and recognize that \n",
    "\n",
    "$$z=\\frac{y-\\mu_y}{\\sigma_y}$$ \n",
    "\n",
    "is normally distributed with mean 0 and variance 1.\n",
    "\n",
    "Can you find the  probability that 25 employees approve the CEO using the Gaussian approximation?\n"
   ]
  },
  {
   "cell_type": "markdown",
   "metadata": {},
   "source": [
    "Type the answer here using the [latex syntax](https://wch.github.io/latexsheet/) or handwrite the answer, upload the picture in the same folder and use a new markdown cell with markdown syntax `![title](image_name.png)`"
   ]
  },
  {
   "cell_type": "markdown",
   "metadata": {},
   "source": [
    "1a\n",
    "$$P(X=25)={50\\choose 25}\\cdot(p^{25})\\cdot(p^{50-25})={50\\choose 25}\\cdot({\\frac{1}{2}}^{50})\\\\p(x)=0.112$$\n",
    "1b\n",
    "$$\\mu=np=50\\cdot0.5=25\\\\\\sigma=\\sqrt{npq}=\\sqrt{12.5}\\\\P(X=25)=normalcdf(24.5,25.5,25,\\sqrt{12.5})=0.1125$$"
   ]
  },
  {
   "cell_type": "markdown",
   "metadata": {},
   "source": [
    "## Question 2 (20 points)\n",
    "\n",
    "A sequential experiment involves repeatedly drawing a ball from one of the two urns, noting the number on the ball and replacing the ball in the urn. Urn 0 contains a ball with the number 0 and two balls with the number 1. Urn 1 contains five balls with the number 0 and one ball with the number 1. \n",
    "\n",
    "The urn from which the first ball is drawn is selected by flipping a fair coin. Urn 0 is used if the outcome is H and urn 1 is used if the outcome is T. **The urn used in a subsequent draws corresponds to the number on the ball drawn in the previous draw.** \n",
    "\n",
    "What is the probability of a specific sequence of the numbers on drawn balls being 0011 ? "
   ]
  },
  {
   "cell_type": "markdown",
   "metadata": {},
   "source": [
    "Type the answer here using the [latex syntax](https://wch.github.io/latexsheet/) or handwrite the answer, upload the picture in the same folder and use a new markdown cell with markdown syntax `![title](image_name.png)`\n"
   ]
  },
  {
   "cell_type": "markdown",
   "metadata": {},
   "source": [
    "2\n",
    "$$P(0011)=P(first=0)+P(first=1)\\\\P(first=0)=\\frac{1}{2}\\cdot\\frac{1}{3}\\cdot\\frac{1}{3}\\cdot\\frac{2}{3}\\cdot\\frac{1}{6}=\\frac{1}{162}\\\\P(first=1)=\\frac{1}{2}\\cdot\\frac{5}{6}\\cdot\\frac{1}{3}\\cdot\\frac{2}{3}\\cdot\\frac{1}{6}=\\frac{5}{324}\\\\\\therefore P(0011)=\\frac{1}{162}+\\frac{5}{324}=\\frac{7}{324}$$\n"
   ]
  },
  {
   "cell_type": "markdown",
   "metadata": {},
   "source": [
    "## Question 3 (20 points) \n",
    "\n",
    "Referring to Example 6.6 of the  [Math for ML book](https://mml-book.github.io/book/mml-book.pdf), simulate and plot the bivariate normal distribution with the shown parameters using the [Cholesky factorization](https://numpy.org/doc/stable/reference/generated/numpy.linalg.cholesky.html) for the simulation. \n"
   ]
  },
  {
   "cell_type": "code",
   "execution_count": 9,
   "metadata": {},
   "outputs": [
    {
     "data": {
      "image/png": "[encoded data removed]",
      "text/plain": [
       "<Figure size 432x288 with 1 Axes>"
      ]
     },
     "metadata": {
      "needs_background": "light"
     },
     "output_type": "display_data"
    }
   ],
   "source": [
    "# Type the Python code here and ensure you save the notebook with the results of the code execution.\n",
    "import numpy as np\n",
    "import matplotlib.pyplot as plt\n",
    "\n",
    "# Parameters\n",
    "mean = [0, 2]\n",
    "cov = [[0.3, -1], [-1, 5]]\n",
    "\n",
    "# Cholesky factorization\n",
    "L = np.linalg.cholesky(cov)\n",
    "\n",
    "# Generate sample of random normal variables\n",
    "x1 = np.random.normal(0, 2, 1000)\n",
    "x2 = np.random.normal(0, 1, 1000)\n",
    "\n",
    "# Transform sample to correlated variables\n",
    "y = mean + np.dot(np.column_stack((x1, x2)), L.T)\n",
    "\n",
    "# Plot the result\n",
    "plt.scatter(y[:, 0], y[:, 1], color='blue')\n",
    "plt.xlabel('x1')\n",
    "plt.ylabel('x2')\n",
    "plt.show()"
   ]
  },
  {
   "cell_type": "markdown",
   "metadata": {},
   "source": [
    "## Question 4 (20 points)\n",
    "\n",
    "Go through the provided links on [Poisson](https://dlsun.github.io/probability/poisson.html) and [exponential distributions](https://dlsun.github.io/probability/exponential.html) as the `Math for ML` textbook in your course site  is not covering enough these important distributions.\n",
    "\n",
    "Watch this video https://www.youtube.com/watch?v=Asto3RS46ks where the author is explaining how to simulate a Poisson distribution from scratch. \n",
    "\n",
    "1. Using the Kaggle API download [this dataset](https://www.kaggle.com/datasets/new-york-city/nyc-east-river-bicycle-crossings) and plot the histogram of the number of cyclists that cross the Brooklyn bridge per day.  \n",
    "2. Simulate the number of cyclists that cross the Brooklyn bridge per day using the Poisson distribution. Ensure that the simulated counts are similar distribution-wise to the observed counts.\n"
   ]
  },
  {
   "cell_type": "code",
   "execution_count": 22,
   "metadata": {},
   "outputs": [
    {
     "data": {
      "image/png": "[encoded data removed]",
      "text/plain": [
       "<Figure size 432x288 with 1 Axes>"
      ]
     },
     "metadata": {
      "needs_background": "light"
     },
     "output_type": "display_data"
    }
   ],
   "source": [
    "# Type the Python code here and ensure you save the notebook with the results of the code execution.\n",
    "#1\n",
    "import pandas as pd\n",
    "import matplotlib.pyplot as plt\n",
    "dataset=pd.read_csv(\"nyc-east-river-bicycle-counts.csv\")\n",
    "cyclists=dataset[\"Brooklyn Bridge\"]\n",
    "plt.hist(cyclists,rwidth=0.8)\n",
    "plt.show()"
   ]
  },
  {
   "cell_type": "code",
   "execution_count": 27,
   "metadata": {},
   "outputs": [
    {
     "data": {
      "image/png": "[encoded data removed]",
      "text/plain": [
       "<Figure size 432x288 with 1 Axes>"
      ]
     },
     "metadata": {
      "needs_background": "light"
     },
     "output_type": "display_data"
    }
   ],
   "source": [
    "#2\n",
    "import numpy as np\n",
    "mean=np.mean(np.array(cyclists))\n",
    "simulation=np.random.poisson(mean,3000)\n",
    "plt.hist(simulation,rwidth=0.8)\n",
    "plt.show()"
   ]
  },
  {
   "cell_type": "markdown",
   "metadata": {},
   "source": [
    "# Question 5 (20 points)\n",
    "\n",
    "You are asked to stress test an cloud API endpoint and are told that the API exposes a database server that can be abstracted as an M/M/1 queue. Go through [this introductory](https://queue-it.com/blog/queuing-theory/) page to just understand the queuing domain and the notation M/M/1. Go also through the elements of the MM1 queue [here](https://en.wikipedia.org/wiki/M/M/1_queue). Make sure you click on the links and learn about the random process called Poisson process. \n",
    "\n",
    "\n",
    "Your task is to simulate the behavior of the queue and plot the number of requests that are waiting in the queue as a function of time. You are given three arrival rates of the API requests $\\lambda=[1, 3, 4]$ and the service time of the requests as an exponential random variable with rate $\\mu=4$. \n",
    "\n",
    "   "
   ]
  },
  {
   "cell_type": "code",
   "execution_count": 61,
   "metadata": {},
   "outputs": [
    {
     "data": {
      "image/png": "[encoded data removed]",
      "text/plain": [
       "<Figure size 432x288 with 1 Axes>"
      ]
     },
     "metadata": {
      "needs_background": "light"
     },
     "output_type": "display_data"
    }
   ],
   "source": [
    "# Type the Python code here and ensure you save the notebook with the results of the code execution.\n",
    "def MM1(la, mu):\n",
    "    # to customer: lambda\n",
    "    # to server: mu\n",
    "    queue=[]\n",
    "    wait_result=[]\n",
    "    nextArrival=np.random.poisson(la)\n",
    "    nextService=nextArrival+np.random.poisson(mu)\n",
    "    for i in range(1000):\n",
    "        while nextArrival<nextService:\n",
    "            queue.append(nextArrival)\n",
    "            nextArrival+=np.random.poisson(la)\n",
    "        if len(queue)!=0:\n",
    "            a=queue.pop(0)\n",
    "        else:\n",
    "            a=0\n",
    "        wait_result.append(nextService-a)\n",
    "        \n",
    "        if len(queue)!=0:\n",
    "            nextService=nextService+np.random.poisson(mu)\n",
    "        else:\n",
    "            nextService=nextArrival+np.random.poisson(mu)\n",
    "    return wait_result\n",
    "\n",
    "wait1=MM1(1,4)\n",
    "wait2=MM1(3,4)\n",
    "wait3=MM1(4,4)\n",
    "plt.hist(wait1,rwidth=0.8)\n",
    "plt.show()"
   ]
  },
  {
   "cell_type": "code",
   "execution_count": 62,
   "metadata": {},
   "outputs": [
    {
     "data": {
      "image/png": "[encoded data removed]",
      "text/plain": [
       "<Figure size 432x288 with 1 Axes>"
      ]
     },
     "metadata": {
      "needs_background": "light"
     },
     "output_type": "display_data"
    }
   ],
   "source": [
    "plt.hist(wait2,rwidth=0.8)\n",
    "plt.show()"
   ]
  },
  {
   "cell_type": "code",
   "execution_count": 63,
   "metadata": {},
   "outputs": [
    {
     "data": {
      "image/png": "[encoded data removed]",
      "text/plain": [
       "<Figure size 432x288 with 1 Axes>"
      ]
     },
     "metadata": {
      "needs_background": "light"
     },
     "output_type": "display_data"
    }
   ],
   "source": [
    "plt.hist(wait3,rwidth=0.8)\n",
    "plt.show()"
   ]
  },
  {
   "cell_type": "code",
   "execution_count": null,
   "metadata": {},
   "outputs": [],
   "source": []
  }
 ],
 "metadata": {
  "kernelspec": {
   "display_name": "Python 3 (ipykernel)",
   "language": "python",
   "name": "python3"
  },
  "language_info": {
   "codemirror_mode": {
    "name": "ipython",
    "version": 3
   },
   "file_extension": ".py",
   "mimetype": "text/x-python",
   "name": "python",
   "nbconvert_exporter": "python",
   "pygments_lexer": "ipython3",
   "version": "3.9.12"
  },
  "vscode": {
   "interpreter": {
    "hash": "31f2aee4e71d21fbe5cf8b01ff0e069b9275f58929596ceb00d14d90e3e16cd6"
   }
  }
 },
 "nbformat": 4,
 "nbformat_minor": 2
}
