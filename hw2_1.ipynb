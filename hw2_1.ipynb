{
 "cells": [
  {
   "cell_type": "markdown",
   "metadata": {},
   "source": [
    "# Gaussian Maximum Likelihood\n",
    "\n",
    "##  MLE of a  Gaussian $p_{model}(x|w)$\n",
    "\n",
    "You are given an array of data points called `data`. Your course site plots the negative log-likelihood  function for several candidate hypotheses. Estimate the parameters of the Gaussian $p_{model}$ by  coding an implementation that estimates its optimal parameters (15 points) and explaining what it does (10 points). You are free to use any Gradient-based optimization method you like.  "
   ]
  },
  {
   "cell_type": "code",
   "execution_count": 3,
   "metadata": {},
   "outputs": [
    {
     "name": "stdout",
     "output_type": "stream",
     "text": [
      "6.214285714285714 2.425418120907092\n"
     ]
    }
   ],
   "source": [
    "import numpy as np\n",
    "\n",
    "data = [4, 5, 7, 8, 8, 9, 10, 5, 2, 3, 5, 4, 8, 9]\n",
    "\n",
    "# add your code here\n",
    "def gradient(data,mu,sig):\n",
    "    n=len(data)\n",
    "    mu_gradient=((data-mu).sum())/(sig**2)\n",
    "    sig_gradient=((data-mu)**2).sum()/(sig**3)-n/sig\n",
    "    return mu_gradient, sig_gradient\n",
    "    \n",
    "\n",
    "learning_rate=0.1\n",
    "num_iters=1000\n",
    "\n",
    "mu=np.mean(data)\n",
    "sig=np.std(data)\n",
    "# print(mu,sig)\n",
    "data=np.array(data)\n",
    "\n",
    "for i in range(num_iters):\n",
    "    mu_gradient,sig_gradient=gradient(data,mu,sig)\n",
    "    mu-=learning_rate*mu_gradient\n",
    "    sig-=learning_rate*sig_gradient\n",
    "\n",
    "print(mu,sig)"
   ]
  },
  {
   "cell_type": "markdown",
   "metadata": {},
   "source": []
  },
  {
   "cell_type": "markdown",
   "metadata": {},
   "source": [
    "## MLE of a conditional Gaussian $p_{model}(y|x,w)$\n",
    "\n",
    "You are given a problem that involves the relationship between $x$ and $y$. Estimate the parameters of a $p_{model}$ that fit the dataset (x,y) shown below.   You are free to use any Gradient-based optimization method you like.  \n"
   ]
  },
  {
   "cell_type": "code",
   "execution_count": 60,
   "metadata": {},
   "outputs": [
    {
     "name": "stdout",
     "output_type": "stream",
     "text": [
      "[[ 1.  8.]\n",
      " [ 1. 16.]\n",
      " [ 1. 22.]\n",
      " [ 1. 33.]\n",
      " [ 1. 50.]\n",
      " [ 1. 51.]]\n",
      "[[ 5]\n",
      " [20]\n",
      " [14]\n",
      " [32]\n",
      " [42]\n",
      " [58]]\n",
      "[[-2.59159348]\n",
      " [ 1.03638645]]\n"
     ]
    }
   ],
   "source": [
    "x = np.array([8, 16, 22, 33, 50, 51])\n",
    "y = np.array([5, 20, 14, 32, 42, 58])\n",
    "\n",
    "# add your code here\n",
    "\n",
    "\n",
    "x_2d=x.reshape(x.shape[0],1)\n",
    "x_2d=np.hstack((np.ones((x.shape[0],1)),x_2d))\n",
    "y_2d=y.reshape(y.shape[0],1)\n",
    "# print(y_2d)\n",
    "\n",
    "\n",
    "learning_rate=0.001\n",
    "num_iters=100000\n",
    "n=x.shape[0]\n",
    "w=np.ones((2,1))\n",
    "# print(x_2d)\n",
    "# print(y_2d)\n",
    "\n",
    "for i in range(num_iters):\n",
    "    gradient=x_2d.T.dot(x_2d.dot(w)-y_2d)/n\n",
    "    w = w-learning_rate*gradient\n",
    "\n",
    "\n",
    "\n",
    "\n",
    "print(w)"
   ]
  },
  {
   "cell_type": "code",
   "execution_count": null,
   "metadata": {},
   "outputs": [],
   "source": []
  }
 ],
 "metadata": {
  "kernelspec": {
   "display_name": "Python 3 (ipykernel)",
   "language": "python",
   "name": "python3"
  },
  "language_info": {
   "codemirror_mode": {
    "name": "ipython",
    "version": 3
   },
   "file_extension": ".py",
   "mimetype": "text/x-python",
   "name": "python",
   "nbconvert_exporter": "python",
   "pygments_lexer": "ipython3",
   "version": "3.9.12"
  },
  "vscode": {
   "interpreter": {
    "hash": "7d6993cb2f9ce9a59d5d7380609d9cb5192a9dedd2735a011418ad9e827eb538"
   }
  }
 },
 "nbformat": 4,
 "nbformat_minor": 2
}
